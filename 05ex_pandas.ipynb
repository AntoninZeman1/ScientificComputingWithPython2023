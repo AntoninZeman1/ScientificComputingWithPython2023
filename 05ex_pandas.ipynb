{
 "cells": [
  {
   "cell_type": "markdown",
   "metadata": {},
   "source": [
    "1\\. **Pandas DataFrame**\n",
    "\n",
    "This exercise consists in analyzing a dataset containg timing information from a series of Time-to-Digital-Converters (TDC) implemented in a pair of FPGAs. Each measurement (i.e. each row of the input file) consists of a flag that specifies the type of message ('HEAD', which in this case is always 1), two addresses of the TDC providing the signal ('FPGA' and 'TDC_CHANNEL'), and the timing information ('ORBIT_CNT', 'BX_COUNTER', and 'TDC_MEAS'). Each TDC count corresponds to 25/30 ns, whereas a unit of BX_COUNTER corresponds to 25 ns, and the ORBIT_CNT is increased every `x` BX_COUNTER. This allows to store the time in a similar way to hours, minutes and seconds."
   ]
  },
  {
   "cell_type": "code",
   "execution_count": 1,
   "metadata": {},
   "outputs": [
    {
     "name": "stdout",
     "output_type": "stream",
     "text": [
      "--2023-12-08 23:41:56--  https://www.dropbox.com/s/xvjzaxzz3ysphme/data_000637.txt\n",
      "Resolving www.dropbox.com (www.dropbox.com)... 162.125.69.18, 2620:100:6025:18::a27d:4512\n",
      "Connecting to www.dropbox.com (www.dropbox.com)|162.125.69.18|:443... connected.\n",
      "HTTP request sent, awaiting response... 302 Found\n",
      "Location: /s/raw/xvjzaxzz3ysphme/data_000637.txt [following]\n",
      "--2023-12-08 23:41:56--  https://www.dropbox.com/s/raw/xvjzaxzz3ysphme/data_000637.txt\n",
      "Reusing existing connection to www.dropbox.com:443.\n",
      "HTTP request sent, awaiting response... 302 Found\n",
      "Location: https://uc4139b32bb3073bd68249653601.dl.dropboxusercontent.com/cd/0/inline/CJDCuBCyHg0e-qTCNn7eRsyevrZ87wm_6Bu4Um-lDVPxAXgimOOFW14aJ2oKAqSfJ8Tz_1Vl6B6kHgHnG1VQmMn_2eMMIXmei1Zs8Hvb5ZStMbU0gEtPyAYzUWz__X-tTQ8/file# [following]\n",
      "--2023-12-08 23:41:57--  https://uc4139b32bb3073bd68249653601.dl.dropboxusercontent.com/cd/0/inline/CJDCuBCyHg0e-qTCNn7eRsyevrZ87wm_6Bu4Um-lDVPxAXgimOOFW14aJ2oKAqSfJ8Tz_1Vl6B6kHgHnG1VQmMn_2eMMIXmei1Zs8Hvb5ZStMbU0gEtPyAYzUWz__X-tTQ8/file\n",
      "Resolving uc4139b32bb3073bd68249653601.dl.dropboxusercontent.com (uc4139b32bb3073bd68249653601.dl.dropboxusercontent.com)... 162.125.69.15, 2620:100:6025:15::a27d:450f\n",
      "Connecting to uc4139b32bb3073bd68249653601.dl.dropboxusercontent.com (uc4139b32bb3073bd68249653601.dl.dropboxusercontent.com)|162.125.69.15|:443... connected.\n",
      "HTTP request sent, awaiting response... 200 OK\n",
      "Length: 33179236 (32M) [text/plain]\n",
      "Saving to: ‘./data/data_000637.txt.1’\n",
      "\n",
      "data_000637.txt.1   100%[===================>]  31.64M  16.8MB/s    in 1.9s    \n",
      "\n",
      "2023-12-08 23:41:59 (16.8 MB/s) - ‘./data/data_000637.txt.1’ saved [33179236/33179236]\n",
      "\n"
     ]
    }
   ],
   "source": [
    "# If haven't downloaded it yet, please get the data file with wget\n",
    "!wget https://www.dropbox.com/s/xvjzaxzz3ysphme/data_000637.txt -P ./data/"
   ]
  },
  {
   "cell_type": "markdown",
   "metadata": {},
   "source": [
    "1\\. Create a Pandas DataFrame reading N rows of the `data/data_000637.txt` dataset. Choose N to be smaller than or equal to the maximum number of rows and larger that 10k (check the documentation)."
   ]
  },
  {
   "cell_type": "code",
   "execution_count": 2,
   "metadata": {},
   "outputs": [],
   "source": [
    "import pandas as pd\n",
    "N = 20000\n",
    "df = pd.read_csv(\"./data/data_000637.txt\",nrows=N) "
   ]
  },
  {
   "cell_type": "markdown",
   "metadata": {},
   "source": [
    "2\\. Estimate the number of BX in a ORBIT (the value `x`).\n",
    "\n",
    "*Hint*: check when the BX counter reaches the maximum value before being reset to 0."
   ]
  },
  {
   "cell_type": "code",
   "execution_count": 3,
   "metadata": {},
   "outputs": [
    {
     "name": "stdout",
     "output_type": "stream",
     "text": [
      "ORBIT_CNT\n",
      "3869200167    3187\n",
      "3869200168    3538\n",
      "3869200169    2766\n",
      "3869200170    3377\n",
      "3869200171    3542\n",
      "              ... \n",
      "3869200362    3425\n",
      "3869200363    3460\n",
      "3869200364    3352\n",
      "3869200365    2787\n",
      "3869200366    2522\n",
      "Name: BX_COUNTER, Length: 200, dtype: int64\n"
     ]
    }
   ],
   "source": [
    "BX_in_ORBIT= df.groupby(\"ORBIT_CNT\")[\"BX_COUNTER\"].max()\n",
    "print(BX_in_ORBIT)"
   ]
  },
  {
   "cell_type": "markdown",
   "metadata": {},
   "source": [
    "3\\. Create a new column with the absolute time in ns (as a combination of the other three columns with timing information) since the beginning of the data acquisition, and convert the new column to a Time Series.\n",
    "\n",
    "*Hint:* introduce an offset to the absolute time such that the start of the data acquisition (i.e. the first entry) is zero."
   ]
  },
  {
   "cell_type": "code",
   "execution_count": 4,
   "metadata": {},
   "outputs": [
    {
     "name": "stdout",
     "output_type": "stream",
     "text": [
      "       HEAD  FPGA  TDC_CHANNEL   ORBIT_CNT  BX_COUNTER  TDC_MEAS  \\\n",
      "0         1     0          123  3869200167        2374        26   \n",
      "1         1     0          124  3869200167        2374        27   \n",
      "2         1     0           63  3869200167        2553        28   \n",
      "3         1     0           64  3869200167        2558        19   \n",
      "4         1     0           64  3869200167        2760        25   \n",
      "...     ...   ...          ...         ...         ...       ...   \n",
      "19995     1     0           27  3869200366        2513        29   \n",
      "19996     1     0           63  3869200366        2517         6   \n",
      "19997     1     0           32  3869200366        2519         5   \n",
      "19998     1     0           17  3869200366        2522        21   \n",
      "19999     1     0           64  3869200366        2522         0   \n",
      "\n",
      "       ABSOLUTE_TIME_NS                 ABSOLUTE_TIME  \n",
      "0          2.296370e+14 1970-01-03 15:47:17.029970821  \n",
      "1          2.296370e+14 1970-01-03 15:47:17.029970822  \n",
      "2          2.469517e+14 1970-01-03 20:35:51.700722623  \n",
      "3          2.474354e+14 1970-01-03 20:43:55.350743615  \n",
      "4          2.669748e+14 1970-01-04 02:09:34.811592020  \n",
      "...                 ...                           ...  \n",
      "19995      2.430825e+14 1970-01-03 19:31:22.513056799  \n",
      "19996      2.434694e+14 1970-01-03 19:37:49.433093480  \n",
      "19997      2.436629e+14 1970-01-03 19:41:02.893111829  \n",
      "19998      2.439531e+14 1970-01-03 19:45:53.083139367  \n",
      "19999      2.439531e+14 1970-01-03 19:45:53.083139350  \n",
      "\n",
      "[20000 rows x 8 columns]\n"
     ]
    }
   ],
   "source": [
    "# exercise 3 and 4\n",
    "df['ABSOLUTE_TIME_NS'] = (df['ORBIT_CNT'] * df['BX_COUNTER'] * 25 + df['BX_COUNTER'] * 25 + df['TDC_MEAS'] * (25 / 30))\n",
    "start_time = df['ABSOLUTE_TIME_NS'].min()\n",
    "df['ABSOLUTE_TIME_NS'] -= start_time\n",
    "df['ABSOLUTE_TIME'] = pd.to_datetime(df['ABSOLUTE_TIME_NS'], unit='ns')\n",
    "print(df)"
   ]
  },
  {
   "cell_type": "markdown",
   "metadata": {},
   "source": [
    "4\\. Find out the duration of the data taking in hours, minutes and seconds, by using the features of the Time Series. Perform this check reading the whole dataset."
   ]
  },
  {
   "cell_type": "code",
   "execution_count": null,
   "metadata": {},
   "outputs": [],
   "source": []
  },
  {
   "cell_type": "markdown",
   "metadata": {},
   "source": [
    "5\\. Use the `.groupby()` method to find out the noisy channels, i.e. the TDC channels with most counts (print to screen the top 3 and the corresponding counts)"
   ]
  },
  {
   "cell_type": "code",
   "execution_count": 5,
   "metadata": {},
   "outputs": [
    {
     "name": "stdout",
     "output_type": "stream",
     "text": [
      "     TDC_CHANNEL  COUNT\n",
      "128          139   1693\n",
      "63            64    996\n",
      "62            63    969\n"
     ]
    }
   ],
   "source": [
    "temp_channels = df.groupby('TDC_CHANNEL').size().reset_index(name='COUNT')\n",
    "sorted_channels = temp_channels.sort_values(by='COUNT', ascending=False)\n",
    "top_noisy_channels = sorted_channels.head(3)\n",
    "print(top_noisy_channels)"
   ]
  },
  {
   "cell_type": "markdown",
   "metadata": {},
   "source": [
    "6\\. Count the number of non-empty orbits (i.e. the number of orbits with at least one hit)."
   ]
  },
  {
   "cell_type": "code",
   "execution_count": 6,
   "metadata": {},
   "outputs": [
    {
     "name": "stdout",
     "output_type": "stream",
     "text": [
      "Number of non-empty orbits: 200\n"
     ]
    }
   ],
   "source": [
    "temp_orbits = df.groupby('ORBIT_CNT')['TDC_MEAS'].count().reset_index(name='COUNT2')\n",
    "temp_orbits = temp_orbits[temp_orbits['COUNT2'] > 0]\n",
    "non_empty_orbits = len(temp_orbits)\n",
    "print(\"Number of non-empty orbits:\", non_empty_orbits) "
   ]
  },
  {
   "cell_type": "markdown",
   "metadata": {},
   "source": [
    "7\\. Count the number of unique orbits with at least one measurement from TDC_CHANNEL=139."
   ]
  },
  {
   "cell_type": "code",
   "execution_count": 7,
   "metadata": {},
   "outputs": [
    {
     "name": "stdout",
     "output_type": "stream",
     "text": [
      "Number of unique orbits with at least one measurement from TDC_CHANNEL=139: 200\n"
     ]
    }
   ],
   "source": [
    "temp_orbits_139 = df[df['TDC_CHANNEL'] == 139]\n",
    "unique_orbits_139 = temp_orbits_139['ORBIT_CNT'].nunique()\n",
    "print(\"Number of unique orbits with at least one measurement from TDC_CHANNEL=139:\", unique_orbits_139)"
   ]
  },
  {
   "cell_type": "markdown",
   "metadata": {},
   "source": [
    "8\\. Create two Series (one for each FPGA) that have the TDC channel as index, and the number of counts for the corresponding TDC channel as values."
   ]
  },
  {
   "cell_type": "code",
   "execution_count": 8,
   "metadata": {},
   "outputs": [
    {
     "name": "stdout",
     "output_type": "stream",
     "text": [
      "             count\n",
      "TDC_CHANNEL       \n",
      "1               13\n",
      "2               23\n",
      "3               17\n",
      "4               22\n",
      "5               29\n",
      "...            ...\n",
      "121             98\n",
      "122             94\n",
      "123            280\n",
      "124            258\n",
      "139           1171\n",
      "\n",
      "[118 rows x 1 columns]\n",
      "             count\n",
      "TDC_CHANNEL       \n",
      "1              435\n",
      "2              479\n",
      "3              362\n",
      "4              393\n",
      "5              246\n",
      "...            ...\n",
      "125              7\n",
      "126              9\n",
      "127             21\n",
      "128             25\n",
      "139            522\n",
      "\n",
      "[125 rows x 1 columns]\n"
     ]
    }
   ],
   "source": [
    "fpga_0_data = df[df['FPGA'] == 0].groupby(\"TDC_CHANNEL\").count()\n",
    "fpga_1_data = df[df['FPGA'] == 1].groupby(\"TDC_CHANNEL\").count()\n",
    "fpga_0_data = fpga_0_data.drop(columns=[\"TDC_MEAS\",\"BX_COUNTER\",\"ORBIT_CNT\",\"FPGA\",\"ABSOLUTE_TIME\",\"ABSOLUTE_TIME_NS\"])\n",
    "fpga_1_data = fpga_1_data.drop(columns=[\"TDC_MEAS\",\"BX_COUNTER\",\"ORBIT_CNT\",\"FPGA\",\"ABSOLUTE_TIME\",\"ABSOLUTE_TIME_NS\"])\n",
    "fpga_0_data = fpga_0_data.rename(columns={'HEAD': 'count'})\n",
    "fpga_1_data = fpga_1_data.rename(columns={'HEAD': 'count'})\n",
    "print(fpga_0_data)\n",
    "print(fpga_1_data)"
   ]
  },
  {
   "cell_type": "markdown",
   "metadata": {},
   "source": [
    "9\\. **Optional:** Create two histograms (one for each FPGA) that show the number of counts for each TDC channel."
   ]
  },
  {
   "cell_type": "code",
   "execution_count": null,
   "metadata": {},
   "outputs": [],
   "source": []
  }
 ],
 "metadata": {
  "kernelspec": {
   "display_name": "Python 3 (ipykernel)",
   "language": "python",
   "name": "python3"
  },
  "language_info": {
   "codemirror_mode": {
    "name": "ipython",
    "version": 3
   },
   "file_extension": ".py",
   "mimetype": "text/x-python",
   "name": "python",
   "nbconvert_exporter": "python",
   "pygments_lexer": "ipython3",
   "version": "3.8.10"
  }
 },
 "nbformat": 4,
 "nbformat_minor": 4
}
