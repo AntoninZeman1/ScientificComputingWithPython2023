{
 "cells": [
  {
   "cell_type": "markdown",
   "metadata": {},
   "source": [
    "1\\. **Reductions**\n",
    "\n",
    "Given the following matrix:\n",
    "\n",
    "```python\n",
    "m = np.arange(12).reshape((3,4))\n",
    "```\n",
    "\n",
    "   1. find the total mean\n",
    "   2. find the mean for each row and column"
   ]
  },
  {
   "cell_type": "code",
   "execution_count": 1,
   "metadata": {},
   "outputs": [],
   "source": [
    "import numpy as np"
   ]
  },
  {
   "cell_type": "code",
   "execution_count": 2,
   "metadata": {},
   "outputs": [
    {
     "name": "stdout",
     "output_type": "stream",
     "text": [
      "Total mean is: 5.5 \n",
      "\n",
      "Row means are: [1.5 5.5 9.5] \n",
      "\n",
      "Column means are: [4. 5. 6. 7.] \n",
      "\n"
     ]
    }
   ],
   "source": [
    "m = np.arange(12).reshape((3, 4))\n",
    "    \n",
    "total_mean = np.mean(m)\n",
    "row_means = np.mean(m, axis=1)\n",
    "col_means = np.mean(m, axis=0)\n",
    "\n",
    "print(\"Total mean is:\", total_mean,\"\\n\")\n",
    "print(\"Row means are:\", row_means,\"\\n\")\n",
    "print(\"Column means are:\", col_means,\"\\n\") "
   ]
  },
  {
   "cell_type": "markdown",
   "metadata": {},
   "source": [
    "2\\. **Outer product**\n",
    "\n",
    "Find the outer product of the following vectors:\n",
    "\n",
    "```python\n",
    "u = np.array([1, 3, 5, 7])\n",
    "v = np.array([2, 4, 6, 8])\n",
    "```\n",
    "\n",
    "Use different methods to do this:\n",
    "\n",
    "   1. Using the function `outer` in numpy\n",
    "   2. Using a nested `for` loop or a list comprehension\n",
    "   3. Using numpy broadcasting operations"
   ]
  },
  {
   "cell_type": "code",
   "execution_count": 3,
   "metadata": {},
   "outputs": [
    {
     "name": "stdout",
     "output_type": "stream",
     "text": [
      "Outer product: \n",
      "a) Using np.outer: \n",
      " [[ 2  4  6  8]\n",
      " [ 6 12 18 24]\n",
      " [10 20 30 40]\n",
      " [14 28 42 56]] \n",
      "\n",
      "b) Using nested for loops: \n",
      " [[ 2.  4.  6.  8.]\n",
      " [ 6. 12. 18. 24.]\n",
      " [10. 20. 30. 40.]\n",
      " [14. 28. 42. 56.]] \n",
      "\n",
      "c) Using broadcasting:\n",
      " [[ 2  4  6  8]\n",
      " [ 6 12 18 24]\n",
      " [10 20 30 40]\n",
      " [14 28 42 56]] \n",
      "\n"
     ]
    }
   ],
   "source": [
    "u = np.array([1, 3, 5, 7])\n",
    "v = np.array([2, 4, 6, 8])\n",
    "\n",
    "# a) Using np.outer function\n",
    "n_outer = np.outer(u, v)\n",
    "\n",
    "# b) Using nested for loop\n",
    "n_loop = np.zeros((np.size(u),np.size(v)))\n",
    "for i in np.arange(np.size(u)):\n",
    "    for j in np.arange(np.size(v)):\n",
    "        n_loop[i][j] = u[i]*v[j]\n",
    " \n",
    "# c) Using broadcasting\n",
    "n_broadcast = u[:, np.newaxis] * v\n",
    "\n",
    "print(\"Outer product: \\na) Using np.outer: \\n\", n_outer,\"\\n\\nb) Using nested for loops: \\n\",n_loop,\"\\n\\nc) Using broadcasting:\\n\",n_broadcast,\"\\n\")"
   ]
  },
  {
   "cell_type": "markdown",
   "metadata": {},
   "source": [
    "3\\. **Matrix masking**\n",
    "\n",
    "Create a $10 \\times 6$ matrix of float random numbers, distributed between 0 and 3 according to a flat distribution.\n",
    "\n",
    "After creating the matrix, set all entries $< 0.3$ to zero using a mask."
   ]
  },
  {
   "cell_type": "code",
   "execution_count": 4,
   "metadata": {},
   "outputs": [
    {
     "name": "stdout",
     "output_type": "stream",
     "text": [
      "Random matrix: \n",
      " [[1.83782426e+00 3.65508427e-01 2.87072604e+00 2.33244817e+00\n",
      "  2.53931588e+00 1.35729940e+00]\n",
      " [1.56030032e+00 2.91717684e-01 1.36459459e+00 5.42895074e-01\n",
      "  2.08587712e+00 2.96199933e+00]\n",
      " [1.40356983e+00 2.85136485e+00 1.42075120e+00 3.58666966e-01\n",
      "  3.45651249e-01 2.75094938e+00]\n",
      " [2.20772095e-01 1.73563676e+00 2.87536743e+00 1.51710781e+00\n",
      "  7.54341465e-01 1.39329638e+00]\n",
      " [2.24906006e+00 4.26949181e-01 1.76217895e+00 7.63025211e-01\n",
      "  1.55683516e+00 2.87207651e+00]\n",
      " [2.76045280e+00 1.52183143e+00 3.31071716e-04 1.01664851e+00\n",
      "  2.87059578e+00 1.48769365e+00]\n",
      " [1.79583431e-01 9.11817182e-01 1.21767195e-02 4.28149477e-01\n",
      "  2.24913256e+00 1.14307502e+00]\n",
      " [1.41102016e+00 8.71505312e-01 1.96752555e+00 4.15428693e-01\n",
      "  2.29731144e+00 1.66888963e+00]\n",
      " [2.69613229e+00 1.21001664e-01 8.99889600e-01 1.51372237e+00\n",
      "  2.67068909e+00 9.43600273e-02]\n",
      " [1.52174845e+00 2.31113481e+00 2.50456720e+00 1.63015542e+00\n",
      "  2.68047500e+00 1.54922793e+00]] \n",
      "Conditional mask: \n",
      " [[False False False False False False]\n",
      " [False  True False False False False]\n",
      " [False False False False False False]\n",
      " [ True False False False False False]\n",
      " [False False False False False False]\n",
      " [False False  True False False False]\n",
      " [ True False  True False False False]\n",
      " [False False False False False False]\n",
      " [False  True False False False  True]\n",
      " [False False False False False False]] \n",
      "Applied mask \n",
      " [[1.83782426 0.36550843 2.87072604 2.33244817 2.53931588 1.3572994 ]\n",
      " [1.56030032 0.         1.36459459 0.54289507 2.08587712 2.96199933]\n",
      " [1.40356983 2.85136485 1.4207512  0.35866697 0.34565125 2.75094938]\n",
      " [0.         1.73563676 2.87536743 1.51710781 0.75434147 1.39329638]\n",
      " [2.24906006 0.42694918 1.76217895 0.76302521 1.55683516 2.87207651]\n",
      " [2.7604528  1.52183143 0.         1.01664851 2.87059578 1.48769365]\n",
      " [0.         0.91181718 0.         0.42814948 2.24913256 1.14307502]\n",
      " [1.41102016 0.87150531 1.96752555 0.41542869 2.29731144 1.66888963]\n",
      " [2.69613229 0.         0.8998896  1.51372237 2.67068909 0.        ]\n",
      " [1.52174845 2.31113481 2.5045672  1.63015542 2.680475   1.54922793]] \n",
      "\n"
     ]
    }
   ],
   "source": [
    "r = np.random.uniform(0, 3, size=(10, 6))\n",
    "r_copy = np.copy(r)\n",
    "r_mask = r < 0.3\n",
    "r[r_mask] = 0\n",
    "\n",
    "print(\"Random matrix: \\n\",r_copy,\"\\nConditional mask: \\n\",r_mask,\"\\nApplied mask \\n\",r,\"\\n\")"
   ]
  },
  {
   "cell_type": "markdown",
   "metadata": {},
   "source": [
    "4\\. **Trigonometric functions**\n",
    "\n",
    "Use `np.linspace` to create an array of 100 numbers between $0$ and $2\\pi$ (inclusive).\n",
    "\n",
    "  * Extract every 10th element using the slice notation\n",
    "  * Reverse the array using the slice notation\n",
    "  * Extract elements where the absolute difference between the `sin` and `cos` functions evaluated for that element is $< 0.1$\n",
    "  * **Optional**: make a plot showing the `sin` and `cos` functions and indicate graphically (with a line or a marker) where they are close"
   ]
  },
  {
   "cell_type": "code",
   "execution_count": 5,
   "metadata": {},
   "outputs": [
    {
     "name": "stdout",
     "output_type": "stream",
     "text": [
      "Original array: \n",
      " [0.         0.06346652 0.12693304 0.19039955 0.25386607 0.31733259\n",
      " 0.38079911 0.44426563 0.50773215 0.57119866 0.63466518 0.6981317\n",
      " 0.76159822 0.82506474 0.88853126 0.95199777 1.01546429 1.07893081\n",
      " 1.14239733 1.20586385 1.26933037 1.33279688 1.3962634  1.45972992\n",
      " 1.52319644 1.58666296 1.65012947 1.71359599 1.77706251 1.84052903\n",
      " 1.90399555 1.96746207 2.03092858 2.0943951  2.15786162 2.22132814\n",
      " 2.28479466 2.34826118 2.41172769 2.47519421 2.53866073 2.60212725\n",
      " 2.66559377 2.72906028 2.7925268  2.85599332 2.91945984 2.98292636\n",
      " 3.04639288 3.10985939 3.17332591 3.23679243 3.30025895 3.36372547\n",
      " 3.42719199 3.4906585  3.55412502 3.61759154 3.68105806 3.74452458\n",
      " 3.8079911  3.87145761 3.93492413 3.99839065 4.06185717 4.12532369\n",
      " 4.1887902  4.25225672 4.31572324 4.37918976 4.44265628 4.5061228\n",
      " 4.56958931 4.63305583 4.69652235 4.75998887 4.82345539 4.88692191\n",
      " 4.95038842 5.01385494 5.07732146 5.14078798 5.2042545  5.26772102\n",
      " 5.33118753 5.39465405 5.45812057 5.52158709 5.58505361 5.64852012\n",
      " 5.71198664 5.77545316 5.83891968 5.9023862  5.96585272 6.02931923\n",
      " 6.09278575 6.15625227 6.21971879 6.28318531] \n",
      "\n",
      "Every 10th elemnt in the array: \n",
      " [0.         0.63466518 1.26933037 1.90399555 2.53866073 3.17332591\n",
      " 3.8079911  4.44265628 5.07732146 5.71198664] \n",
      "\n",
      "Reversed array: \n",
      " [6.28318531 6.21971879 6.15625227 6.09278575 6.02931923 5.96585272\n",
      " 5.9023862  5.83891968 5.77545316 5.71198664 5.64852012 5.58505361\n",
      " 5.52158709 5.45812057 5.39465405 5.33118753 5.26772102 5.2042545\n",
      " 5.14078798 5.07732146 5.01385494 4.95038842 4.88692191 4.82345539\n",
      " 4.75998887 4.69652235 4.63305583 4.56958931 4.5061228  4.44265628\n",
      " 4.37918976 4.31572324 4.25225672 4.1887902  4.12532369 4.06185717\n",
      " 3.99839065 3.93492413 3.87145761 3.8079911  3.74452458 3.68105806\n",
      " 3.61759154 3.55412502 3.4906585  3.42719199 3.36372547 3.30025895\n",
      " 3.23679243 3.17332591 3.10985939 3.04639288 2.98292636 2.91945984\n",
      " 2.85599332 2.7925268  2.72906028 2.66559377 2.60212725 2.53866073\n",
      " 2.47519421 2.41172769 2.34826118 2.28479466 2.22132814 2.15786162\n",
      " 2.0943951  2.03092858 1.96746207 1.90399555 1.84052903 1.77706251\n",
      " 1.71359599 1.65012947 1.58666296 1.52319644 1.45972992 1.3962634\n",
      " 1.33279688 1.26933037 1.20586385 1.14239733 1.07893081 1.01546429\n",
      " 0.95199777 0.88853126 0.82506474 0.76159822 0.6981317  0.63466518\n",
      " 0.57119866 0.50773215 0.44426563 0.38079911 0.31733259 0.25386607\n",
      " 0.19039955 0.12693304 0.06346652 0.        ] \n",
      "\n",
      "Elements where the absolute difference between the sin and cos functions is less than 0.1  [0.76159822 0.82506474 3.87145761 3.93492413] \n",
      "\n"
     ]
    }
   ],
   "source": [
    "q = np.linspace(0, 2 * np.pi, 100)\n",
    "    \n",
    "q_10= q[::10]\n",
    "q_rev = q[::-1]\n",
    "q_sin_cos = q[np.abs(np.sin(q) - np.cos(q)) < 0.1] \n",
    "\n",
    "print(\"Original array: \\n\",q,\"\\n\\nEvery 10th elemnt in the array: \\n\",q_10,\"\\n\\nReversed array: \\n\",q_rev,\"\\n\\nElements where the absolute difference between the sin and cos functions is less than 0.1 \",q_sin_cos,\"\\n\")"
   ]
  },
  {
   "cell_type": "markdown",
   "metadata": {},
   "source": [
    "5\\. **Matrices**\n",
    "\n",
    "Create a matrix that shows the $10 \\times 10$ multiplication table.\n",
    "\n",
    " * Find the trace of the matrix\n",
    " * Extract the anti-diagonal matrix (this should be ```array([10, 18, 24, 28, 30, 30, 28, 24, 18, 10])```)\n",
    " * Extract the diagonal offset by 1 upwards (this should be ```array([ 2,  6, 12, 20, 30, 42, 56, 72, 90])```)"
   ]
  },
  {
   "cell_type": "code",
   "execution_count": 6,
   "metadata": {},
   "outputs": [
    {
     "name": "stdout",
     "output_type": "stream",
     "text": [
      "Multiplication Table Matrix:\n",
      " [[  1   2   3   4   5   6   7   8   9  10]\n",
      " [  2   4   6   8  10  12  14  16  18  20]\n",
      " [  3   6   9  12  15  18  21  24  27  30]\n",
      " [  4   8  12  16  20  24  28  32  36  40]\n",
      " [  5  10  15  20  25  30  35  40  45  50]\n",
      " [  6  12  18  24  30  36  42  48  54  60]\n",
      " [  7  14  21  28  35  42  49  56  63  70]\n",
      " [  8  16  24  32  40  48  56  64  72  80]\n",
      " [  9  18  27  36  45  54  63  72  81  90]\n",
      " [ 10  20  30  40  50  60  70  80  90 100]]\n",
      "\n",
      "Trace of the Matrix: 385\n",
      "\n",
      "Anti-diagonal Matrix:  [10 18 24 28 30 30 28 24 18 10]\n",
      "\n",
      "Diagonal Offset by 1 Upwards:  [ 2  6 12 20 30 42 56 72 90]\n"
     ]
    }
   ],
   "source": [
    "multiplication_table = np.arange(1, 11).reshape(-1, 1) * np.arange(1, 11)\n",
    "trace_value = np.trace(multiplication_table)\n",
    "anti_diagonal = np.flipud(multiplication_table).diagonal()\n",
    "offset_diagonal = np.diagonal(multiplication_table, offset=1)\n",
    "\n",
    "print(\"Multiplication Table Matrix:\\n\",multiplication_table)\n",
    "print(\"\\nTrace of the Matrix:\", trace_value)\n",
    "print(\"\\nAnti-diagonal Matrix: \", anti_diagonal)\n",
    "print(\"\\nDiagonal Offset by 1 Upwards: \", offset_diagonal)"
   ]
  },
  {
   "cell_type": "markdown",
   "metadata": {},
   "source": [
    "6\\. **Broadcasting**\n",
    "\n",
    "Use broadcasting to create a grid of distances.\n",
    "\n",
    "Route 66 crosses the following cities in the US: Chicago, Springfield, Saint-Louis, Tulsa, Oklahoma City, Amarillo, Santa Fe, Albuquerque, Flagstaff, Los Angeles.\n",
    "\n",
    "The corresponding positions in miles are: `0, 198, 303, 736, 871, 1175, 1475, 1544, 1913, 2448`\n",
    "\n",
    "  * Build a 2D grid of distances among each city along Route 66\n",
    "  * Convert the distances in km"
   ]
  },
  {
   "cell_type": "code",
   "execution_count": 7,
   "metadata": {},
   "outputs": [
    {
     "name": "stdout",
     "output_type": "stream",
     "text": [
      "Grid of Distances (in kilometers): \n",
      " [[   0.       318.64932  487.63002 1184.47424 1401.73514 1890.9745\n",
      "  2373.7765  2484.82096 3078.66742 3939.66432]\n",
      " [ 318.64932    0.       168.9807   865.82492 1083.08582 1572.32518\n",
      "  2055.12718 2166.17164 2760.0181  3621.015  ]\n",
      " [ 487.63002  168.9807     0.       696.84422  914.10512 1403.34448\n",
      "  1886.14648 1997.19094 2591.0374  3452.0343 ]\n",
      " [1184.47424  865.82492  696.84422    0.       217.2609   706.50026\n",
      "  1189.30226 1300.34672 1894.19318 2755.19008]\n",
      " [1401.73514 1083.08582  914.10512  217.2609     0.       489.23936\n",
      "   972.04136 1083.08582 1676.93228 2537.92918]\n",
      " [1890.9745  1572.32518 1403.34448  706.50026  489.23936    0.\n",
      "   482.802    593.84646 1187.69292 2048.68982]\n",
      " [2373.7765  2055.12718 1886.14648 1189.30226  972.04136  482.802\n",
      "     0.       111.04446  704.89092 1565.88782]\n",
      " [2484.82096 2166.17164 1997.19094 1300.34672 1083.08582  593.84646\n",
      "   111.04446    0.       593.84646 1454.84336]\n",
      " [3078.66742 2760.0181  2591.0374  1894.19318 1676.93228 1187.69292\n",
      "   704.89092  593.84646    0.       860.9969 ]\n",
      " [3939.66432 3621.015   3452.0343  2755.19008 2537.92918 2048.68982\n",
      "  1565.88782 1454.84336  860.9969     0.     ]]\n"
     ]
    }
   ],
   "source": [
    "cities = ['Chicago', 'Springfield', 'Saint-Louis', 'Tulsa', 'Oklahoma City', 'Amarillo', 'Santa Fe', 'Albuquerque', 'Flagstaff', 'Los Angeles']\n",
    "miles = np.array([0, 198, 303, 736, 871, 1175, 1475, 1544, 1913, 2448])\n",
    "\n",
    "d_miles = np.abs(miles - miles[:, np.newaxis])\n",
    "temp = 1.60934\n",
    "d_km = d_miles * temp\n",
    "\n",
    "print(\"Grid of Distances (in kilometers): \\n\",d_km)"
   ]
  },
  {
   "cell_type": "markdown",
   "metadata": {},
   "source": [
    "7\\. **Prime numbers sieve**\n",
    "\n",
    "Compute the prime numbers in the 0-N (start with N=99) range with a sieve (mask).\n",
    "\n",
    "  * Construct a shape (N,) boolean array, which is the mask\n",
    "  * Identify the multiples of each number starting from 2 and set accordingly the corresponding mask element\n",
    "  * Apply the mask to obtain an array of ordered prime numbers\n",
    "  * Check the performances (with `timeit`); how does it scale with N?\n",
    "  * Implement the optimization suggested in the [sieve of Eratosthenes](https://en.wikipedia.org/wiki/Sieve_of_Eratosthenes)"
   ]
  },
  {
   "cell_type": "code",
   "execution_count": 8,
   "metadata": {},
   "outputs": [
    {
     "name": "stdout",
     "output_type": "stream",
     "text": [
      "Prime numbers up to: 99 are [ 2  3  5  7 11 13 17 19 23 29 31 37 41 43 47 53 59 61 67 71 73 79 83 89\n",
      " 97]\n",
      "Time taken by basic_prime_sieve: 0.008375628000067081 seconds\n"
     ]
    }
   ],
   "source": [
    "import timeit\n",
    "def basic_prime_sieve(N):\n",
    "    is_prime = np.ones(N + 1, dtype=bool)\n",
    "    is_prime[0:2] = False \n",
    "        \n",
    "    for i in range(2, int(np.sqrt(N)) + 1):\n",
    "        if is_prime[i]:\n",
    "            is_prime[i*i : N+1 : i] = False\n",
    "\n",
    "    primes = np.nonzero(is_prime)[0]\n",
    "    return primes\n",
    "\n",
    "N = 99\n",
    "basic_primes = basic_prime_sieve(N)\n",
    "time_basic = timeit.timeit(lambda: basic_prime_sieve(N), number=1000)\n",
    "print(\"Prime numbers up to:\",N,\"are\",basic_primes)\n",
    "print(\"Time taken by basic_prime_sieve:\", time_basic, \"seconds\")"
   ]
  },
  {
   "cell_type": "markdown",
   "metadata": {},
   "source": [
    "8\\. **Diffusion using random walk**\n",
    "\n",
    "Consider a simple random walk process: at each step in time, a walker jumps right or left (+1 or -1) with equal probability. The goal is to find the typical distance from the origin of many random walkers after a given amount of time.\n",
    "\n",
    "*Hint*: create a 2D array where each row represents a walker, and each column represents a time step.\n",
    "\n",
    "  * Take 1000 walkers and let them walk for 200 steps\n",
    "  * Use `randint` to create a 2D array of size $walkers \\times steps$ with values -1 or 1\n",
    "  * Calculate the walking distances for each walker (e.g. by summing the elements in each row)\n",
    "  * Take the square of the previously-obtained array (element-wise)\n",
    "  * Compute the mean of the squared distances at each step (i.e. the mean along the columns)\n",
    "  * **Optional**: plot the average distances ($\\sqrt(distance^2)$) as a function of time (step)"
   ]
  },
  {
   "cell_type": "code",
   "execution_count": 9,
   "metadata": {},
   "outputs": [
    {
     "data": {
      "image/png": "[encoded data removed]",
      "text/plain": [
       "<Figure size 640x480 with 1 Axes>"
      ]
     },
     "metadata": {},
     "output_type": "display_data"
    }
   ],
   "source": [
    "import matplotlib.pyplot as plt\n",
    "walkers = 1000\n",
    "steps = 200\n",
    "A = np.random.choice([-1, 1], size=(walkers, steps))\n",
    "\n",
    "A_sum = np.cumsum(A, axis=1)\n",
    "A_sum_sq = A_sum ** 2\n",
    "A_sum_mean = np.mean(A_sum_sq, axis=0)\n",
    "\n",
    "plt.plot(np.sqrt(A_sum_mean), label='Average Distance')\n",
    "plt.xlabel('Time Step')\n",
    "plt.ylabel('Average Distance')\n",
    "plt.title('Random Walk - Average Distance vs. Time')\n",
    "plt.show()"
   ]
  },
  {
   "cell_type": "code",
   "execution_count": null,
   "metadata": {},
   "outputs": [],
   "source": []
  }
 ],
 "metadata": {
  "kernelspec": {
   "display_name": "Python 3 (ipykernel)",
   "language": "python",
   "name": "python3"
  },
  "language_info": {
   "codemirror_mode": {
    "name": "ipython",
    "version": 3
   },
   "file_extension": ".py",
   "mimetype": "text/x-python",
   "name": "python",
   "nbconvert_exporter": "python",
   "pygments_lexer": "ipython3",
   "version": "3.8.10"
  }
 },
 "nbformat": 4,
 "nbformat_minor": 4
}
